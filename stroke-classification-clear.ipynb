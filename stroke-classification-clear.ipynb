{
 "cells": [
  {
   "cell_type": "code",
   "execution_count": null,
   "metadata": {
    "execution": {
     "iopub.execute_input": "2024-12-06T13:12:11.769119Z",
     "iopub.status.busy": "2024-12-06T13:12:11.768738Z",
     "iopub.status.idle": "2024-12-06T13:12:30.974109Z",
     "shell.execute_reply": "2024-12-06T13:12:30.973071Z",
     "shell.execute_reply.started": "2024-12-06T13:12:11.769084Z"
    },
    "papermill": {
     "duration": 6.579445,
     "end_time": "2022-12-13T12:03:24.381666",
     "exception": false,
     "start_time": "2022-12-13T12:03:17.802221",
     "status": "completed"
    },
    "tags": [],
    "trusted": true
   },
   "outputs": [],
   "source": [
    "import numpy as np\n",
    "import pandas as pd\n",
    "import os\n",
    "import keras.backend as K\n",
    "\n",
    "import matplotlib.pyplot as plt\n",
    "import seaborn as sns\n",
    "%matplotlib inline\n",
    "import warnings\n",
    "warnings.filterwarnings('ignore')\n",
    "\n",
    "from pprint import pprint\n",
    "from collections import defaultdict\n",
    "import openslide\n",
    "from openslide import OpenSlide\n",
    "\n",
    "from glob import glob\n",
    "\n",
    "from sklearn.model_selection import train_test_split\n",
    "from tqdm import tqdm\n",
    "import tensorflow as tf\n",
    "from tensorflow import keras\n",
    "from tensorflow.keras import layers\n",
    "from tensorflow.keras.models import Sequential\n",
    "from tensorflow.keras.layers import Conv2D, MaxPooling2D, Dropout, Flatten, Dense\n",
    "from tensorflow.keras.layers import GlobalMaxPooling2D\n",
    "from keras.models import load_model\n",
    "\n",
    "print(keras.__version__)"
   ]
  },
  {
   "cell_type": "code",
   "execution_count": null,
   "metadata": {
    "execution": {
     "iopub.execute_input": "2024-12-06T13:15:53.671786Z",
     "iopub.status.busy": "2024-12-06T13:15:53.671008Z",
     "iopub.status.idle": "2024-12-06T13:15:53.713620Z",
     "shell.execute_reply": "2024-12-06T13:15:53.712187Z",
     "shell.execute_reply.started": "2024-12-06T13:15:53.671744Z"
    },
    "papermill": {
     "duration": 0.031325,
     "end_time": "2022-12-13T12:03:24.419596",
     "exception": false,
     "start_time": "2022-12-13T12:03:24.388271",
     "status": "completed"
    },
    "tags": [],
    "trusted": true
   },
   "outputs": [],
   "source": [
    "import random\n",
    "\n",
    "train_df = pd.read_csv('../input/mayo-clinic-strip-ai/train.csv')\n",
    "test_df  = pd.read_csv('../input/mayo-clinic-strip-ai/test.csv')"
   ]
  },
  {
   "cell_type": "markdown",
   "metadata": {},
   "source": [
    "## Data viusalization"
   ]
  },
  {
   "cell_type": "code",
   "execution_count": null,
   "metadata": {
    "execution": {
     "iopub.execute_input": "2024-12-06T13:18:52.935241Z",
     "iopub.status.busy": "2024-12-06T13:18:52.934640Z",
     "iopub.status.idle": "2024-12-06T13:18:53.199932Z",
     "shell.execute_reply": "2024-12-06T13:18:53.198573Z",
     "shell.execute_reply.started": "2024-12-06T13:18:52.935200Z"
    },
    "trusted": true
   },
   "outputs": [],
   "source": [
    "plt.style.use('Solarize_Light2')\n",
    "label_percentages = train_df.groupby('label')['label'].count().div(len(train_df)).mul(100)\n",
    "label_counts = train_df['label'].value_counts()  \n",
    "\n",
    "plt.figure(figsize=(8, 5), facecolor='white') \n",
    "bar_chart = sns.barplot(x=label_percentages.index, y=label_percentages.values)\n",
    "\n",
    "bar_chart.set_facecolor('white')\n",
    "\n",
    "plt.title(\"Distribution of a Target Variable\")\n",
    "plt.ylabel(\"%\")\n",
    "plt.xlabel(\"Label\")\n",
    "\n",
    "plt.ylim(0, 80)\n",
    "\n",
    "for index, patch in enumerate(bar_chart.patches):\n",
    "    label = label_percentages.index[index]\n",
    "    count = label_counts[label]\n",
    "    percentage = int(label_percentages[label])\n",
    "    bar_chart.annotate(f'{count} ({percentage}%)',\n",
    "                      (patch.get_x() + patch.get_width() / 2., patch.get_height() + 2),  \n",
    "                      ha='center', va='bottom', fontsize=10)\n",
    "\n",
    "plt.show()\n",
    "\n",
    "print('Train Size = {}'.format(len(train_df)))\n",
    "print('Test Size = {}'.format(len(test_df)))"
   ]
  },
  {
   "cell_type": "code",
   "execution_count": null,
   "metadata": {
    "execution": {
     "iopub.execute_input": "2024-12-06T13:19:42.249466Z",
     "iopub.status.busy": "2024-12-06T13:19:42.249060Z",
     "iopub.status.idle": "2024-12-06T13:19:42.496040Z",
     "shell.execute_reply": "2024-12-06T13:19:42.494407Z",
     "shell.execute_reply.started": "2024-12-06T13:19:42.249429Z"
    },
    "trusted": true
   },
   "outputs": [],
   "source": [
    "num_images = train_df.shape[0]\n",
    "unique_patient_count = len(train_df['patient_id'].unique())\n",
    "\n",
    "slice_sizes = [unique_patient_count, num_images - unique_patient_count]\n",
    "slice_labels = ['Unique Patient IDs', 'Duplicate Patient IDs']\n",
    "percentages = [count / num_images * 100 for count in slice_sizes]\n",
    "\n",
    "data = pd.DataFrame({\n",
    "    'Labels': slice_labels,\n",
    "    'Counts': slice_sizes,\n",
    "    'Percentages': percentages\n",
    "})\n",
    "\n",
    "plt.style.use('Solarize_Light2')\n",
    "\n",
    "plt.figure(figsize=(8, 5), facecolor='white') \n",
    "bar_chart = sns.barplot(x='Labels', y='Percentages', data=data, palette=['#66c2a5', '#fc8d62'])\n",
    "\n",
    "bar_chart.set_facecolor('white')\n",
    "\n",
    "plt.title(\"Distribution of Unique vs Duplicate Patient IDs\")\n",
    "plt.ylabel(\"%\")\n",
    "plt.xlabel(\"Patient ID Type\")\n",
    "\n",
    "plt.ylim(0, 95)  \n",
    "\n",
    "for index, p in enumerate(bar_chart.patches):\n",
    "    count = data['Counts'][index]\n",
    "    percentage = int(data['Percentages'][index])\n",
    "    bar_chart.annotate(f'{count} ({percentage}%)',\n",
    "                      (p.get_x() + p.get_width() / 2., p.get_height() + 2),\n",
    "                      ha='center', va='bottom', fontsize=10)\n",
    "\n",
    "plt.show()"
   ]
  },
  {
   "cell_type": "code",
   "execution_count": null,
   "metadata": {},
   "outputs": [],
   "source": [
    "print('Train Size = {}'.format(len(train_df)))\n",
    "print('Test Size = {}'.format(len(test_df)))"
   ]
  },
  {
   "cell_type": "code",
   "execution_count": null,
   "metadata": {
    "execution": {
     "iopub.execute_input": "2024-12-06T13:20:05.678675Z",
     "iopub.status.busy": "2024-12-06T13:20:05.678206Z",
     "iopub.status.idle": "2024-12-06T13:20:05.691386Z",
     "shell.execute_reply": "2024-12-06T13:20:05.689843Z",
     "shell.execute_reply.started": "2024-12-06T13:20:05.678635Z"
    },
    "trusted": true
   },
   "outputs": [],
   "source": [
    "train_image = glob(\"/kaggle/input/mayo-clinic-strip-ai/train/*\")\n",
    "test_image = glob(\"/kaggle/input/mayo-clinic-strip-ai/test/*\")\n",
    "\n",
    "print(f\"Number of images in a training set: {len(train_image)}\")\n",
    "print(f\"Number of images in a training set: {len(test_image)}\")"
   ]
  },
  {
   "cell_type": "code",
   "execution_count": null,
   "metadata": {
    "execution": {
     "iopub.execute_input": "2024-12-06T13:20:33.715908Z",
     "iopub.status.busy": "2024-12-06T13:20:33.715474Z",
     "iopub.status.idle": "2024-12-06T13:20:41.702100Z",
     "shell.execute_reply": "2024-12-06T13:20:41.700626Z",
     "shell.execute_reply.started": "2024-12-06T13:20:33.715874Z"
    },
    "trusted": true
   },
   "outputs": [],
   "source": [
    "image_metadata = defaultdict(list)\n",
    "\n",
    "for idx, img_path in enumerate(train_image):\n",
    "    img_path = train_image[idx]\n",
    "    slide_obj = OpenSlide(img_path)    \n",
    "    image_metadata['image_id'].append(img_path[-12:-4])\n",
    "    image_metadata['width'].append(slide_obj.dimensions[0])\n",
    "    image_metadata['height'].append(slide_obj.dimensions[1])\n",
    "    image_metadata['size'].append(round(os.path.getsize(img_path) / 1e6, 2))\n",
    "    image_metadata['path'].append(img_path)\n",
    "\n",
    "image_df = pd.DataFrame(image_metadata)\n",
    "image_df['img_aspect_ratio'] = image_df['width']/image_df['height']\n",
    "image_df.sort_values(by='image_id', inplace=True)\n",
    "image_df.reset_index(inplace=True, drop=True)\n",
    "\n",
    "image_df = image_df.merge(train_df, on='image_id')\n",
    "image_df.head()"
   ]
  },
  {
   "cell_type": "code",
   "execution_count": null,
   "metadata": {
    "execution": {
     "iopub.execute_input": "2024-12-06T13:20:49.615841Z",
     "iopub.status.busy": "2024-12-06T13:20:49.615307Z",
     "iopub.status.idle": "2024-12-06T13:20:50.747122Z",
     "shell.execute_reply": "2024-12-06T13:20:50.745874Z",
     "shell.execute_reply.started": "2024-12-06T13:20:49.615792Z"
    },
    "trusted": true
   },
   "outputs": [],
   "source": [
    "plt.style.use('Solarize_Light2')\n",
    "fig, ax = plt.subplots(1, 2, figsize=(16, 5), facecolor='white')\n",
    "\n",
    "sns.histplot(x='size', data=image_df, bins=100, ax=ax[0], stat='density', kde=False, color='lightgray')\n",
    "ax[0].set_title(\"Distribution of Size\")\n",
    "ax[0].set_xlim(left=0)\n",
    "\n",
    "sns.kdeplot(x='size', data=image_df, ax=ax[0], color='red', linewidth=2, label='KDE Size')\n",
    "ax[0].legend()\n",
    "\n",
    "sns.histplot(x='img_aspect_ratio', data=image_df, bins=100, ax=ax[1], stat='density', kde=False, color='lightgray')\n",
    "ax[1].set_title(\"Image Aspect Ratio\")\n",
    "ax[1].set_xlim(left=0)\n",
    "\n",
    "sns.kdeplot(x='img_aspect_ratio', data=image_df, ax=ax[1], color='blue', linewidth=2, label='KDE Aspect Ratio')\n",
    "ax[1].legend()\n",
    "\n",
    "for a in ax:\n",
    "    a.set_facecolor('white')\n",
    "\n",
    "plt.show()"
   ]
  },
  {
   "cell_type": "code",
   "execution_count": null,
   "metadata": {
    "execution": {
     "iopub.execute_input": "2024-12-06T13:22:16.126659Z",
     "iopub.status.busy": "2024-12-06T13:22:16.126243Z",
     "iopub.status.idle": "2024-12-06T13:22:52.059691Z",
     "shell.execute_reply": "2024-12-06T13:22:52.058411Z",
     "shell.execute_reply.started": "2024-12-06T13:22:16.126625Z"
    },
    "trusted": true
   },
   "outputs": [],
   "source": [
    "from PIL import Image\n",
    "Image.MAX_IMAGE_PIXELS = None \n",
    "\n",
    "ce_image = image_df.loc[image_df['label']=='CE','path']\n",
    "laa_image = image_df.loc[image_df['label']=='LAA','path']\n",
    "\n",
    "\n",
    "plt.style.use('default')\n",
    "fig, axes = plt.subplots(1,5, figsize=(16,16))\n",
    "train_image\n",
    "for ax in axes.reshape(-1):\n",
    "    random_img_path = np.random.choice(ce_image)\n",
    "    img = Image.open(random_img_path)   \n",
    "    img.thumbnail((300,300), Image.Resampling.LANCZOS)\n",
    "    ax.imshow(img), ax.set_title(\"target: CE\")\n",
    "plt.show()"
   ]
  },
  {
   "cell_type": "code",
   "execution_count": null,
   "metadata": {
    "execution": {
     "iopub.execute_input": "2024-12-03T18:10:30.152186Z",
     "iopub.status.busy": "2024-12-03T18:10:30.151843Z",
     "iopub.status.idle": "2024-12-03T18:11:15.234839Z",
     "shell.execute_reply": "2024-12-03T18:11:15.233543Z",
     "shell.execute_reply.started": "2024-12-03T18:10:30.152155Z"
    },
    "trusted": true
   },
   "outputs": [],
   "source": [
    "fig, axes = plt.subplots(1,5, figsize=(16,16))\n",
    "train_image\n",
    "for ax in axes.reshape(-1):\n",
    "    img_path = np.random.choice(laa_image)\n",
    "    img = Image.open(img_path)   \n",
    "    img.thumbnail((300,300), Image.Resampling.LANCZOS)\n",
    "    ax.imshow(img), ax.set_title(\"target: LAA\")\n",
    "plt.show()"
   ]
  },
  {
   "cell_type": "code",
   "execution_count": null,
   "metadata": {
    "execution": {
     "iopub.execute_input": "2024-12-06T13:34:13.816924Z",
     "iopub.status.busy": "2024-12-06T13:34:13.816464Z",
     "iopub.status.idle": "2024-12-06T13:34:16.094396Z",
     "shell.execute_reply": "2024-12-06T13:34:16.092774Z",
     "shell.execute_reply.started": "2024-12-06T13:34:13.816889Z"
    },
    "trusted": true
   },
   "outputs": [],
   "source": [
    "slide = OpenSlide('/kaggle/input/mayo-clinic-strip-ai/train/026c97_0.tif') \n",
    "\n",
    "region_coords = (2500, 2000) \n",
    "zoom_level = 0 \n",
    "region_size = (3500, 3500) \n",
    "\n",
    "region_coords = slide.read_region(region_coords, zoom_level, region_size)\n",
    "region_img = region_coords.resize((512, 512))\n",
    "plt.figure(figsize=(10, 10))\n",
    "plt.imshow(region_img)\n",
    "plt.show()"
   ]
  },
  {
   "cell_type": "code",
   "execution_count": null,
   "metadata": {
    "execution": {
     "iopub.execute_input": "2024-12-06T13:35:05.873158Z",
     "iopub.status.busy": "2024-12-06T13:35:05.872694Z",
     "iopub.status.idle": "2024-12-06T13:35:06.594246Z",
     "shell.execute_reply": "2024-12-06T13:35:06.592721Z",
     "shell.execute_reply.started": "2024-12-06T13:35:05.873120Z"
    },
    "trusted": true
   },
   "outputs": [],
   "source": [
    "slide_example = OpenSlide('/kaggle/input/mayo-clinic-strip-ai/train/026c97_0.tif')\n",
    "\n",
    "region_coords = (1400, 1150)\n",
    "zoom_level = 0 \n",
    "region_size = (200, 200)\n",
    "\n",
    "region_coords = slide.read_region(region_coords, zoom_level, region_size)\n",
    "\n",
    "region_img = region_coords.resize((512, 450))\n",
    "\n",
    "plt.figure(figsize=(10, 10))\n",
    "plt.imshow(region_img)\n",
    "\n",
    "plt.text(310, 434, 'Nuclear debris', fontsize=24, color='white', bbox=dict(facecolor='black', alpha=0.5))\n",
    "plt.text(90, 184, 'Fibrin', fontsize=24, color='white', bbox=dict(facecolor='black', alpha=0.5))\n",
    "plt.text(200, 274, 'Red blood cells', fontsize=24, color='white', bbox=dict(facecolor='black', alpha=0.5))\n",
    "\n",
    "from matplotlib.patches import FancyArrowPatch\n",
    "\n",
    "plt.gca().add_patch(FancyArrowPatch((400, 415), (457, 340), color='white', arrowstyle='->', mutation_scale=15, linewidth=2))\n",
    "plt.gca().add_patch(FancyArrowPatch((130, 170), (180, 98), color='white', arrowstyle='->', mutation_scale=15, linewidth=2))\n",
    "plt.gca().add_patch(FancyArrowPatch((270, 250), (310, 178), color='white', arrowstyle='->', mutation_scale=15, linewidth=2))\n",
    "\n",
    "plt.axis('off')\n",
    "plt.show()"
   ]
  },
  {
   "cell_type": "markdown",
   "metadata": {},
   "source": [
    "## Loading Data"
   ]
  },
  {
   "cell_type": "code",
   "execution_count": null,
   "metadata": {
    "execution": {
     "iopub.execute_input": "2024-12-06T13:27:24.443769Z",
     "iopub.status.busy": "2024-12-06T13:27:24.443340Z",
     "iopub.status.idle": "2024-12-06T13:27:24.450585Z",
     "shell.execute_reply": "2024-12-06T13:27:24.449306Z",
     "shell.execute_reply.started": "2024-12-06T13:27:24.443730Z"
    },
    "papermill": {
     "duration": 0.028968,
     "end_time": "2022-12-13T12:03:24.495672",
     "exception": false,
     "start_time": "2022-12-13T12:03:24.466704",
     "status": "completed"
    },
    "tags": [],
    "trusted": true
   },
   "outputs": [],
   "source": [
    "train_df[\"file_path\"] = train_df[\"image_id\"].apply(lambda x: \"../input/mayo-clinic-strip-ai/train/\" + x + \".tif\")\n",
    "test_df[\"file_path\"]  = test_df[\"image_id\"].apply(lambda x: \"../input/mayo-clinic-strip-ai/test/\" + x + \".tif\")"
   ]
  },
  {
   "cell_type": "code",
   "execution_count": null,
   "metadata": {
    "execution": {
     "iopub.execute_input": "2024-12-06T13:31:37.035804Z",
     "iopub.status.busy": "2024-12-06T13:31:37.035357Z",
     "iopub.status.idle": "2024-12-06T13:31:37.055548Z",
     "shell.execute_reply": "2024-12-06T13:31:37.054214Z",
     "shell.execute_reply.started": "2024-12-06T13:31:37.035768Z"
    },
    "trusted": true
   },
   "outputs": [],
   "source": [
    "train_ce_df = train_df[train_df['label'] == 'CE']\n",
    "train_laa_df = train_df[train_df['label'] == 'LAA']\n",
    "\n",
    "sampled= train_ce_df.sample(n=200, random_state=42)\n",
    "train_df = pd.concat([sampled, train_laa_df],ignore_index=True)\n",
    "\n",
    "print(\"Cleaned DataFrame:\")\n",
    "print(train_df.head())\n",
    "train_df['label'].value_counts()"
   ]
  },
  {
   "cell_type": "code",
   "execution_count": null,
   "metadata": {
    "execution": {
     "iopub.execute_input": "2024-12-06T13:30:14.994931Z",
     "iopub.status.busy": "2024-12-06T13:30:14.994524Z",
     "iopub.status.idle": "2024-12-06T13:30:15.008865Z",
     "shell.execute_reply": "2024-12-06T13:30:15.007554Z",
     "shell.execute_reply.started": "2024-12-06T13:30:14.994896Z"
    },
    "papermill": {
     "duration": 0.017639,
     "end_time": "2022-12-13T12:03:24.519397",
     "exception": false,
     "start_time": "2022-12-13T12:03:24.501758",
     "status": "completed"
    },
    "tags": [],
    "trusted": true
   },
   "outputs": [],
   "source": [
    "train_df[\"target\"] = train_df[\"label\"].apply(lambda x : 1 if x==\"CE\" else 0)\n",
    "train_df.head()"
   ]
  },
  {
   "cell_type": "markdown",
   "metadata": {},
   "source": [
    "## Preprocessing"
   ]
  },
  {
   "cell_type": "code",
   "execution_count": null,
   "metadata": {
    "execution": {
     "iopub.execute_input": "2024-12-06T13:35:15.146276Z",
     "iopub.status.busy": "2024-12-06T13:35:15.145853Z"
    },
    "papermill": {
     "duration": 2496.090688,
     "end_time": "2022-12-13T12:45:00.650948",
     "exception": false,
     "start_time": "2022-12-13T12:03:24.56026",
     "status": "completed"
    },
    "tags": [],
    "trusted": true
   },
   "outputs": [],
   "source": [
    "%%time\n",
    "def preprocess(image_path):\n",
    "    slide=OpenSlide(image_path)\n",
    "    region= (2500,2500)    \n",
    "    size  = (5000, 5000)\n",
    "    image = slide.read_region(region, 0, size)\n",
    "    image = image.resize((128, 128))\n",
    "    image = np.array(image)    \n",
    "    return image\n",
    "\n",
    "X_train=[]\n",
    "for i in tqdm(train_df['file_path']):\n",
    "    x1=preprocess(i)\n",
    "    X_train.append(x1)\n",
    "\n",
    "Y_train=[]    \n",
    "Y_train=train_df['target']"
   ]
  },
  {
   "cell_type": "code",
   "execution_count": null,
   "metadata": {
    "execution": {
     "iopub.execute_input": "2024-12-03T18:42:02.384711Z",
     "iopub.status.busy": "2024-12-03T18:42:02.382955Z",
     "iopub.status.idle": "2024-12-03T18:42:02.665361Z",
     "shell.execute_reply": "2024-12-03T18:42:02.663940Z",
     "shell.execute_reply.started": "2024-12-03T18:42:02.384605Z"
    },
    "papermill": {
     "duration": 0.296197,
     "end_time": "2022-12-13T12:45:01.078179",
     "exception": false,
     "start_time": "2022-12-13T12:45:00.781982",
     "status": "completed"
    },
    "tags": [],
    "trusted": true
   },
   "outputs": [],
   "source": [
    "X_train = np.array(X_train)\n",
    "X_train = X_train/255.0\n",
    "Y_train = np.array(Y_train)"
   ]
  },
  {
   "cell_type": "code",
   "execution_count": null,
   "metadata": {
    "execution": {
     "iopub.execute_input": "2024-12-03T18:42:02.667737Z",
     "iopub.status.busy": "2024-12-03T18:42:02.667226Z",
     "iopub.status.idle": "2024-12-03T18:42:03.027466Z",
     "shell.execute_reply": "2024-12-03T18:42:03.025981Z",
     "shell.execute_reply.started": "2024-12-03T18:42:02.667690Z"
    },
    "papermill": {
     "duration": 0.049801,
     "end_time": "2022-12-13T12:45:01.170206",
     "exception": false,
     "start_time": "2022-12-13T12:45:01.120405",
     "status": "completed"
    },
    "tags": [],
    "trusted": true
   },
   "outputs": [],
   "source": [
    "x_train,x_test,y_train,y_test=train_test_split(X_train,Y_train, test_size=0.3, random_state=42)\n",
    "x_train,x_val,y_train,y_val=train_test_split(X_train,Y_train, test_size=0.5, random_state=42)"
   ]
  },
  {
   "cell_type": "code",
   "execution_count": null,
   "metadata": {
    "execution": {
     "iopub.execute_input": "2024-12-03T18:42:03.030217Z",
     "iopub.status.busy": "2024-12-03T18:42:03.029603Z",
     "iopub.status.idle": "2024-12-03T18:42:03.038486Z",
     "shell.execute_reply": "2024-12-03T18:42:03.037077Z",
     "shell.execute_reply.started": "2024-12-03T18:42:03.030156Z"
    },
    "papermill": {
     "duration": 0.050654,
     "end_time": "2022-12-13T12:45:01.261913",
     "exception": false,
     "start_time": "2022-12-13T12:45:01.211259",
     "status": "completed"
    },
    "tags": [],
    "trusted": true
   },
   "outputs": [],
   "source": [
    "print(x_train.shape)"
   ]
  },
  {
   "cell_type": "code",
   "execution_count": null,
   "metadata": {
    "execution": {
     "iopub.execute_input": "2024-12-03T18:42:03.040597Z",
     "iopub.status.busy": "2024-12-03T18:42:03.040191Z",
     "iopub.status.idle": "2024-12-03T18:42:03.406737Z",
     "shell.execute_reply": "2024-12-03T18:42:03.405369Z",
     "shell.execute_reply.started": "2024-12-03T18:42:03.040562Z"
    },
    "trusted": true
   },
   "outputs": [],
   "source": [
    "plt.imshow(x_train[0])"
   ]
  },
  {
   "cell_type": "markdown",
   "metadata": {
    "papermill": {
     "duration": 0.040808,
     "end_time": "2022-12-13T12:45:01.435232",
     "exception": false,
     "start_time": "2022-12-13T12:45:01.394424",
     "status": "completed"
    },
    "tags": []
   },
   "source": [
    "## Our CNN approach"
   ]
  },
  {
   "cell_type": "code",
   "execution_count": null,
   "metadata": {
    "execution": {
     "iopub.execute_input": "2024-12-03T18:42:03.409378Z",
     "iopub.status.busy": "2024-12-03T18:42:03.408851Z",
     "iopub.status.idle": "2024-12-03T18:42:03.420649Z",
     "shell.execute_reply": "2024-12-03T18:42:03.419312Z",
     "shell.execute_reply.started": "2024-12-03T18:42:03.409318Z"
    },
    "trusted": true
   },
   "outputs": [],
   "source": [
    "def f1_score(y_true, y_pred): \n",
    "    true_positives = K.sum(K.round(K.clip(y_true * y_pred, 0, 1)))\n",
    "    possible_positives = K.sum(K.round(K.clip(y_true, 0, 1)))\n",
    "    predicted_positives = K.sum(K.round(K.clip(y_pred, 0, 1)))\n",
    "    precision = true_positives / (predicted_positives + K.epsilon())\n",
    "    recall = true_positives / (possible_positives + K.epsilon())\n",
    "    f1_val = 2*(precision*recall)/(precision+recall+K.epsilon())\n",
    "    return f1_val"
   ]
  },
  {
   "cell_type": "code",
   "execution_count": null,
   "metadata": {
    "execution": {
     "iopub.execute_input": "2024-12-03T18:42:03.422588Z",
     "iopub.status.busy": "2024-12-03T18:42:03.422201Z",
     "iopub.status.idle": "2024-12-03T18:42:03.896243Z",
     "shell.execute_reply": "2024-12-03T18:42:03.894854Z",
     "shell.execute_reply.started": "2024-12-03T18:42:03.422554Z"
    },
    "papermill": {
     "duration": 0.213269,
     "end_time": "2022-12-13T12:45:01.68956",
     "exception": false,
     "start_time": "2022-12-13T12:45:01.476291",
     "status": "completed"
    },
    "tags": [],
    "trusted": true
   },
   "outputs": [],
   "source": [
    "from keras import metrics\n",
    "from keras.layers import Conv2D, MaxPooling2D, Dropout, Flatten, Dense, BatchNormalization, GlobalAveragePooling2D\n",
    "model = Sequential()\n",
    "input_shape = (128, 128, 4)\n",
    "\n",
    "model.add(Conv2D(filters=128, kernel_size = (3,3), padding = 'valid', activation = 'relu', input_shape = input_shape))\n",
    "model.add(BatchNormalization())\n",
    "model.add(MaxPooling2D())\n",
    "model.add(Conv2D(filters=64, kernel_size = (3,3), strides =2, padding = 'valid', activation = 'relu'))\n",
    "model.add(BatchNormalization())\n",
    "model.add(MaxPooling2D())\n",
    "model.add(Conv2D(filters=32, kernel_size = (3,3), strides =2, padding = 'valid', activation = 'relu'))\n",
    "model.add(BatchNormalization())\n",
    "model.add(MaxPooling2D())\n",
    "model.add(Conv2D(filters=16, kernel_size = (3,3), strides =2, padding = 'valid', activation = 'relu'))\n",
    "model.add(BatchNormalization())\n",
    "\n",
    "model.add(Dropout(0.2))\n",
    "model.add(Flatten())\n",
    "\n",
    "model.add(Dense(512, activation='relu')) \n",
    "model.add(Dropout(0.13))\n",
    "model.add(Dense(256, activation='relu'))\n",
    "model.add(Dropout(0.13))\n",
    "model.add(Dense(128, activation='relu'))\n",
    "model.add(Dropout(0.13))\n",
    "model.add(Dense(1, activation=\"sigmoid\"))\n",
    "\n",
    "model.compile(\n",
    "    loss = tf.keras.losses.BinaryCrossentropy(),\n",
    "    metrics=[metrics.binary_accuracy,f1_score],\n",
    "    optimizer = tf.keras.optimizers.Adam(1e-6))\n",
    "\n",
    "dot_img_file = 'model.png'"
   ]
  },
  {
   "cell_type": "code",
   "execution_count": null,
   "metadata": {
    "execution": {
     "iopub.execute_input": "2024-12-03T18:42:03.898031Z",
     "iopub.status.busy": "2024-12-03T18:42:03.897697Z",
     "iopub.status.idle": "2024-12-03T18:42:03.907500Z",
     "shell.execute_reply": "2024-12-03T18:42:03.906052Z",
     "shell.execute_reply.started": "2024-12-03T18:42:03.898002Z"
    },
    "trusted": true
   },
   "outputs": [],
   "source": [
    "from sklearn.utils import compute_class_weight\n",
    "train_classes = Y_train\n",
    "class_weights = compute_class_weight(class_weight = \"balanced\",\n",
    "                                        classes = np.unique(train_classes),\n",
    "                                        y = train_classes                                                    \n",
    "                                    )\n",
    "class_weights = dict(zip(np.unique(train_classes), class_weights))\n",
    "print(class_weights)"
   ]
  },
  {
   "cell_type": "markdown",
   "metadata": {},
   "source": [
    "## This is where we balance class weights"
   ]
  },
  {
   "cell_type": "code",
   "execution_count": null,
   "metadata": {
    "execution": {
     "iopub.execute_input": "2024-12-03T18:42:03.909499Z",
     "iopub.status.busy": "2024-12-03T18:42:03.909102Z",
     "iopub.status.idle": "2024-12-03T18:42:03.930694Z",
     "shell.execute_reply": "2024-12-03T18:42:03.929340Z",
     "shell.execute_reply.started": "2024-12-03T18:42:03.909434Z"
    },
    "papermill": {
     "duration": 0.054636,
     "end_time": "2022-12-13T12:45:01.787016",
     "exception": false,
     "start_time": "2022-12-13T12:45:01.73238",
     "status": "completed"
    },
    "tags": [],
    "trusted": true
   },
   "outputs": [],
   "source": [
    "from sklearn.utils import compute_class_weight\n",
    "train_classes = Y_train\n",
    "class_weights = compute_class_weight(\n",
    "                                        class_weight = \"balanced\",\n",
    "                                        classes = np.unique(train_classes),\n",
    "                                        y = train_classes                                                    \n",
    "                                    )\n",
    "class_weights = dict(zip(np.unique(train_classes), class_weights))\n",
    "class_weights"
   ]
  },
  {
   "cell_type": "markdown",
   "metadata": {},
   "source": [
    "## Training the model"
   ]
  },
  {
   "cell_type": "code",
   "execution_count": null,
   "metadata": {
    "execution": {
     "iopub.execute_input": "2024-12-03T18:42:03.942896Z",
     "iopub.status.busy": "2024-12-03T18:42:03.942388Z",
     "iopub.status.idle": "2024-12-03T18:44:53.200912Z",
     "shell.execute_reply": "2024-12-03T18:44:53.197400Z",
     "shell.execute_reply.started": "2024-12-03T18:42:03.942854Z"
    },
    "papermill": {
     "duration": 13.303133,
     "end_time": "2022-12-13T12:45:15.131496",
     "exception": false,
     "start_time": "2022-12-13T12:45:01.828363",
     "status": "completed"
    },
    "tags": [],
    "trusted": true
   },
   "outputs": [],
   "source": [
    "from keras.callbacks import EarlyStopping, ReduceLROnPlateau, ModelCheckpoint\n",
    "\n",
    "early_stopping = EarlyStopping(monitor='val_loss', patience=10, restore_best_weights=True)\n",
    "reduce_lr = ReduceLROnPlateau(monitor='val_loss', factor=0.5, patience=5, min_lr=1e-6)\n",
    "model_checkpoint = ModelCheckpoint('best_model.h5', save_best_only=True, monitor='val_loss')\n",
    "\n",
    "model.fit(\n",
    "    x_train,\n",
    "    y_train,\n",
    "    epochs=100,\n",
    "    batch_size=32,\n",
    "    validation_data=(x_val, y_val),\n",
    "    class_weight=class_weights,\n",
    "    callbacks=[early_stopping, reduce_lr, model_checkpoint],\n",
    "    verbose=1 \n",
    ")"
   ]
  },
  {
   "cell_type": "code",
   "execution_count": null,
   "metadata": {
    "execution": {
     "iopub.execute_input": "2024-12-03T18:44:53.204054Z",
     "iopub.status.busy": "2024-12-03T18:44:53.203540Z",
     "iopub.status.idle": "2024-12-03T18:44:55.220897Z",
     "shell.execute_reply": "2024-12-03T18:44:55.219341Z",
     "shell.execute_reply.started": "2024-12-03T18:44:53.203982Z"
    },
    "trusted": true
   },
   "outputs": [],
   "source": [
    "best_cnn = load_model('/kaggle/working/best_model.h5', custom_objects={\"f1_score\": f1_score })\n",
    "best_cnn.evaluate(x_test,y_test)"
   ]
  },
  {
   "cell_type": "code",
   "execution_count": null,
   "metadata": {
    "execution": {
     "iopub.execute_input": "2024-12-03T18:44:55.223078Z",
     "iopub.status.busy": "2024-12-03T18:44:55.222690Z",
     "iopub.status.idle": "2024-12-03T18:44:56.415224Z",
     "shell.execute_reply": "2024-12-03T18:44:56.413966Z",
     "shell.execute_reply.started": "2024-12-03T18:44:55.223043Z"
    },
    "trusted": true
   },
   "outputs": [],
   "source": [
    "from sklearn.metrics import confusion_matrix\n",
    "import seaborn as sns\n",
    "\n",
    "plt.figure(figsize=(15, 5))\n",
    "\n",
    "preds = best_cnn.predict(x_test)\n",
    "preds = (preds >= 0.5).astype(np.int32)\n",
    "\n",
    "cm = confusion_matrix(y_test, preds)\n",
    "df_cm = pd.DataFrame(cm, index=['LAA', 'CE'], columns=['LAA', 'CE'])\n",
    "plt.subplot(121)\n",
    "plt.title(\"Confusion matrix for our model\\n\")\n",
    "sns.heatmap(df_cm, annot=True, fmt=\"d\", cmap=\"YlGnBu\")\n",
    "plt.ylabel(\"Predicted\")\n",
    "plt.xlabel(\"Actual\")"
   ]
  },
  {
   "cell_type": "markdown",
   "metadata": {},
   "source": [
    "## Submission for kaggle competition"
   ]
  },
  {
   "cell_type": "code",
   "execution_count": null,
   "metadata": {
    "execution": {
     "iopub.execute_input": "2024-12-03T18:44:56.417047Z",
     "iopub.status.busy": "2024-12-03T18:44:56.416673Z",
     "iopub.status.idle": "2024-12-03T18:45:20.205169Z",
     "shell.execute_reply": "2024-12-03T18:45:20.203862Z",
     "shell.execute_reply.started": "2024-12-03T18:44:56.417015Z"
    },
    "papermill": {
     "duration": 18.955522,
     "end_time": "2022-12-13T12:45:34.133527",
     "exception": false,
     "start_time": "2022-12-13T12:45:15.178005",
     "status": "completed"
    },
    "tags": [],
    "trusted": true
   },
   "outputs": [],
   "source": [
    "test1=[]\n",
    "for i in test_df['file_path']:\n",
    "    x1=preprocess(i)\n",
    "    test1.append(x1)\n",
    "    print(i)\n",
    "    \n",
    "test1=np.array(test1)"
   ]
  },
  {
   "cell_type": "code",
   "execution_count": null,
   "metadata": {
    "execution": {
     "iopub.execute_input": "2024-12-03T18:45:20.206987Z",
     "iopub.status.busy": "2024-12-03T18:45:20.206629Z",
     "iopub.status.idle": "2024-12-03T18:45:20.462430Z",
     "shell.execute_reply": "2024-12-03T18:45:20.461225Z",
     "shell.execute_reply.started": "2024-12-03T18:45:20.206956Z"
    },
    "papermill": {
     "duration": 0.212752,
     "end_time": "2022-12-13T12:45:34.392434",
     "exception": false,
     "start_time": "2022-12-13T12:45:34.179682",
     "status": "completed"
    },
    "tags": [],
    "trusted": true
   },
   "outputs": [],
   "source": [
    "cnn_prediction=model.predict(test1)\n",
    "cnn_prediction"
   ]
  },
  {
   "cell_type": "code",
   "execution_count": null,
   "metadata": {
    "execution": {
     "iopub.execute_input": "2024-12-03T18:45:20.464754Z",
     "iopub.status.busy": "2024-12-03T18:45:20.464339Z",
     "iopub.status.idle": "2024-12-03T18:45:20.492550Z",
     "shell.execute_reply": "2024-12-03T18:45:20.491296Z",
     "shell.execute_reply.started": "2024-12-03T18:45:20.464720Z"
    },
    "papermill": {
     "duration": 0.083787,
     "end_time": "2022-12-13T12:45:34.524093",
     "exception": false,
     "start_time": "2022-12-13T12:45:34.440306",
     "status": "completed"
    },
    "tags": [],
    "trusted": true
   },
   "outputs": [],
   "source": [
    "sub = pd.DataFrame(test_df[\"patient_id\"].copy())\n",
    "sub[\"CE\"] = cnn_prediction\n",
    "sub[\"LAA\"] = 1- sub[\"CE\"]\n",
    "\n",
    "sub = sub.groupby(\"patient_id\").mean()\n",
    "sub = sub[[\"CE\", \"LAA\"]].round(6).reset_index()\n",
    "sub"
   ]
  },
  {
   "cell_type": "code",
   "execution_count": null,
   "metadata": {
    "execution": {
     "iopub.execute_input": "2024-12-03T18:45:20.499936Z",
     "iopub.status.busy": "2024-12-03T18:45:20.499490Z",
     "iopub.status.idle": "2024-12-03T18:45:20.510918Z",
     "shell.execute_reply": "2024-12-03T18:45:20.509379Z",
     "shell.execute_reply.started": "2024-12-03T18:45:20.499899Z"
    },
    "trusted": true
   },
   "outputs": [],
   "source": [
    "label_counts = train_df[\"label\"].value_counts()\n",
    "print(label_counts)"
   ]
  },
  {
   "cell_type": "code",
   "execution_count": null,
   "metadata": {
    "execution": {
     "iopub.execute_input": "2024-12-03T18:45:20.513479Z",
     "iopub.status.busy": "2024-12-03T18:45:20.512658Z",
     "iopub.status.idle": "2024-12-03T18:45:20.533042Z",
     "shell.execute_reply": "2024-12-03T18:45:20.531644Z",
     "shell.execute_reply.started": "2024-12-03T18:45:20.513412Z"
    },
    "trusted": true
   },
   "outputs": [],
   "source": [
    "sub[\"prediction\"] = sub[\"CE\"].apply(lambda x : \"CE\" if x>=0.5 else \"LAA\")\n",
    "sub[\"actual\"] = [\"CE\", \"CE\", \"LAA\",\"LAA\"]\n",
    "print(sub)\n",
    "\n",
    "def weighted_log_loss(y_true, y_pred, weights, N):\n",
    "    y_true = np.array(y_true)\n",
    "    y_pred = np.array(y_pred)\n",
    "    weights = np.array(weights)\n",
    "    N = np.array(N) \n",
    "\n",
    "    log_loss_per_class = -np.sum(y_true / N[:, np.newaxis] * np.log(y_pred), axis=0)\n",
    "\n",
    "    weighted_log_loss_value = np.sum(weights * log_loss_per_class) / np.sum(weights)\n",
    " \n",
    "    return weighted_log_loss_value\n",
    "\n",
    "y_true = np.array([[1, 0],\n",
    "                [1, 0],\n",
    "                [0, 1],\n",
    "                [0, 1]])\n",
    "    \n",
    "N = [545,545,205,205]\n",
    "\n",
    "y_pred = np.clip(sub.iloc[:, [1, 2]].values, 1e-15, 1 - 1e-15)\n",
    "\n",
    "weights = np.array([1,1]) \n",
    "\n",
    "log_loss = weighted_log_loss(y_true, y_pred, weights, N)\n",
    "print(\"log_loss:\",log_loss)"
   ]
  }
 ],
 "metadata": {
  "kaggle": {
   "accelerator": "none",
   "dataSources": [
    {
     "databundleVersionId": 3949526,
     "sourceId": 37333,
     "sourceType": "competition"
    },
    {
     "datasetId": 2483973,
     "sourceId": 4213549,
     "sourceType": "datasetVersion"
    }
   ],
   "dockerImageVersionId": 30804,
   "isGpuEnabled": false,
   "isInternetEnabled": true,
   "language": "python",
   "sourceType": "notebook"
  },
  "kernelspec": {
   "display_name": "Python 3",
   "language": "python",
   "name": "python3"
  },
  "language_info": {
   "codemirror_mode": {
    "name": "ipython",
    "version": 3
   },
   "file_extension": ".py",
   "mimetype": "text/x-python",
   "name": "python",
   "nbconvert_exporter": "python",
   "pygments_lexer": "ipython3",
   "version": "3.10.14"
  }
 },
 "nbformat": 4,
 "nbformat_minor": 4
}
